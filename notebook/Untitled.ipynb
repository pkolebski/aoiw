{
 "cells": [
  {
   "cell_type": "code",
   "execution_count": null,
   "metadata": {},
   "outputs": [],
   "source": [
    "import cv2\n",
    "import numpy as np\n",
    "import matplotlib.pyplot as plt\n",
    "from scipy import ndimage"
   ]
  },
  {
   "cell_type": "markdown",
   "metadata": {},
   "source": [
    "### przydatne linki\n",
    "https://docs.scipy.org/doc/scipy/reference/ndimage.html"
   ]
  },
  {
   "cell_type": "code",
   "execution_count": null,
   "metadata": {},
   "outputs": [],
   "source": [
    "def display_image(img):\n",
    "    img = img[::-1]\n",
    "    plt.figure(figsize=(5,5))\n",
    "    plt.pcolor(img, edgecolors='w', linewidths=1)\n",
    "    plt.xticks(np.arange(0, img.shape[1]+1, 1))\n",
    "    plt.yticks(np.arange(0, img.shape[0]+1, 1))\n",
    "    plt.show()"
   ]
  },
  {
   "cell_type": "markdown",
   "metadata": {},
   "source": [
    "### Generate string array of size"
   ]
  },
  {
   "cell_type": "code",
   "execution_count": null,
   "metadata": {},
   "outputs": [],
   "source": [
    "size = (5, 5)\n",
    "default_value = 0\n",
    "print('[')\n",
    "for i in range(size[0]):\n",
    "    print('[' + f'{default_value}, ' * size[1] + '],')    \n",
    "    for j in range(size[1]):\n",
    "        pass\n",
    "print(']')"
   ]
  },
  {
   "cell_type": "markdown",
   "metadata": {},
   "source": [
    "## filtr (medianowy)"
   ]
  },
  {
   "cell_type": "code",
   "execution_count": null,
   "metadata": {},
   "outputs": [],
   "source": [
    "img = [\n",
    "[.4, .5, .9, .1, .3, ],\n",
    "[1., .7, .8, .1, .2, ],\n",
    "[.8, .5, .6, 0., .1, ],\n",
    "[.5, .2, .1, .2, .9, ],\n",
    "[.1, .9, .2, .5, .4, ],\n",
    "]\n",
    "result = ndimage.median_filter(img, size=3)\n",
    "display(img)\n",
    "display(result)"
   ]
  },
  {
   "cell_type": "markdown",
   "metadata": {},
   "source": [
    "## Konwolucja, uwaga: kernel jest odwracany w implementacji scipy, dla innego dzialania trzeba k[::-1,::-1]"
   ]
  },
  {
   "cell_type": "code",
   "execution_count": null,
   "metadata": {},
   "outputs": [],
   "source": [
    "a = np.array([[1, 2, 0, 0],\n",
    "              [5, 3, 0, 4],\n",
    "              [0, 0, 0, 7],\n",
    "              [9, 3, 0, 0]])\n",
    "k = np.array([[0,0,0],\n",
    "              [0,0,0],\n",
    "              [0,0,1]])\n",
    "ndimage.convolve(a, k, mode='constant', cval=0.0)"
   ]
  },
  {
   "cell_type": "markdown",
   "metadata": {},
   "source": [
    "## operacje morfologiczne "
   ]
  },
  {
   "cell_type": "code",
   "execution_count": null,
   "metadata": {},
   "outputs": [],
   "source": [
    "operation = ndimage.binary_opening # possible ndimage: binary_opening, binary_opening, binary_dilation, binary_erosion\n",
    "\n",
    "img = np.array([\n",
    "[0, 0, 0, 0, 0, 0, 0, 0, 0, 0, 0, 0,],\n",
    "[0, 0, 0, 0, 0, 0, 0, 0, 0, 0, 0, 0,],\n",
    "[0, 0, 0, 1, 0, 0, 1, 1, 1, 0, 0, 0,],\n",
    "[0, 0, 0, 1, 1, 0, 1, 1, 1, 0, 0, 0,],\n",
    "[0, 1, 1, 1, 1, 1, 1, 1, 1, 0, 0, 0,],\n",
    "[0, 0, 0, 1, 1, 1, 1, 0, 0, 0, 0, 0,],\n",
    "[0, 0, 0, 0, 1, 1, 1, 1, 1, 0, 0, 0,],\n",
    "[0, 0, 0, 0, 1, 1, 1, 1, 1, 0, 0, 0,],\n",
    "[0, 0, 0, 0, 0, 1, 1, 1, 1, 1, 0, 0,],\n",
    "[0, 0, 0, 0, 0, 1, 0, 0, 0, 0, 0, 0,],\n",
    "[0, 0, 0, 0, 0, 0, 0, 0, 0, 0, 0, 0,],\n",
    "])\n",
    "kernel = np.array([\n",
    "[0, 0, 1, 0, 0, ],\n",
    "[0, 0, 1, 0, 0, ],\n",
    "[0, 0, 1, 0, 0, ],\n",
    "[0, 0, 1, 0, 0, ],\n",
    "[0, 0, 1, 0, 0, ],\n",
    "])\n",
    "display_image(img)\n",
    "display_image(kernel)\n",
    "output = ndimage.binary_opening(img, structure=kernel).astype(int)\n",
    "display_image(output)"
   ]
  },
  {
   "cell_type": "markdown",
   "metadata": {},
   "source": [
    "## transformata Hough"
   ]
  },
  {
   "cell_type": "code",
   "execution_count": null,
   "metadata": {},
   "outputs": [],
   "source": [
    "img_size = (15, 13) # y, x !!!!\n",
    "x_center, y_center = 5, 7\n",
    "r = 4\n",
    "\n",
    "def circle(x, x_center, y, y_center, r):\n",
    "#     print((x-x_center)**2 + (y - y_center)**2 - r**2)\n",
    "    if (x, y) == (4, 3):\n",
    "        print((x-x_center)**2 + (y - y_center)**2 - r**2)\n",
    "    return -3 <= (x-x_center)**2 + (y - y_center)**2 - r**2 <= 1 # nie jestem pewny jakie kryterium ustawic?\n",
    "\n",
    "img = np.zeros(img_size)\n",
    "img[y_center, x_center] = 2\n",
    "for y in range(img_size[0]):\n",
    "    for x in range(img_size[1]):\n",
    "        if circle(x, x_center, y, y_center, r):\n",
    "            img[y, x]  = 1\n",
    "display_image(img)"
   ]
  },
  {
   "cell_type": "code",
   "execution_count": null,
   "metadata": {},
   "outputs": [],
   "source": [
    "x, y = 14, 14\n",
    "def r(x, y, th):\n",
    "    return np.cos(np.deg2rad(th)) * x + np.sin(np.deg2rad(th))* y\n",
    "\n",
    "arr = np.arange(-45, 136, 5)\n",
    "plt.plot(arr, [r(x, y, th) for th in arr])\n",
    "plt.xticks(np.arange(-45, 130+15, 15))\n",
    "plt.yticks(np.arange(0, 22.5, 2.5))\n",
    "plt.grid()\n"
   ]
  },
  {
   "cell_type": "markdown",
   "metadata": {},
   "source": [
    "## transofrmata afiniczna"
   ]
  },
  {
   "cell_type": "markdown",
   "metadata": {},
   "source": [
    "dla perspektywicznej bedzie podobnie https://en.wikipedia.org/wiki/Transformation_matrix"
   ]
  },
  {
   "cell_type": "code",
   "execution_count": null,
   "metadata": {},
   "outputs": [],
   "source": [
    "a = [(0,0), (10,10), (0,20)]\n",
    "b = [(110,30), (90,50), (70,30)]\n",
    "\n",
    "def row(a,b):\n",
    "    # p_b = p_a * m\n",
    "    p_a = np.ones((3,3))\n",
    "    p_b = np.ones((3,3))    \n",
    "    \n",
    "    for i, (x,y) in enumerate(a):\n",
    "        p_a[i, 0:2] = x,y\n",
    "    for i, (x,y) in enumerate(b):\n",
    "        p_b[i, 0:2] = x,y\n",
    "    \n",
    "    print('p_a = \\n',  p_a)\n",
    "    print('p_b = \\n',  p_b)\n",
    "    \n",
    "    m = np.linalg.inv(p_a) @ p_b \n",
    "    print('m = \\n',  m)\n",
    "    \n",
    "def column(a,b):\n",
    "    # p_b = m * p_a\n",
    "    p_a = np.ones((3,3))\n",
    "    p_b = np.ones((3,3))    \n",
    "    \n",
    "    for i, (x,y) in enumerate(a):\n",
    "        p_a[0:2, i] = x,y\n",
    "    for i, (x,y) in enumerate(b):\n",
    "        p_b[0:2, i] = x,y\n",
    "    \n",
    "    print('p_a = \\n',  p_a)\n",
    "    print('p_b = \\n',  p_b)\n",
    "    \n",
    "    m = p_b @ np.linalg.inv(p_a)\n",
    "    print('m = \\n',  m)\n",
    "\n",
    "\n",
    "np.set_printoptions(suppress=True)\n",
    "print('wektor wierszowy')\n",
    "row(a,b)\n",
    "print('\\nwektor kolumnowy')\n",
    "column(a,b)"
   ]
  },
  {
   "cell_type": "markdown",
   "metadata": {},
   "source": [
    "## Moments"
   ]
  },
  {
   "cell_type": "code",
   "execution_count": null,
   "metadata": {},
   "outputs": [],
   "source": [
    "def run_regular_moments(image, p, q):\n",
    "    mpq = 0\n",
    "    for i in range(image.shape[0]):\n",
    "        for j in range(image.shape[1]):\n",
    "            if image[i, j] == 1:\n",
    "                mpq += (i ** p) * (j ** q)\n",
    "    return mpq\n",
    "\n",
    "def run_central_moments(image, p, q):\n",
    "    m00 = np.sum(image)\n",
    "    x_ = run_regular_moments(image, 1, 0) / m00\n",
    "    y_ = run_regular_moments(image, 0, 1) / m00\n",
    "    mpq = 0\n",
    "    for i in range(image.shape[0]):\n",
    "        for j in range(image.shape[1]):\n",
    "            if image[i, j] == 1:\n",
    "                mpq += ((i - x_) ** p) * ((j - y_) ** q)\n",
    "    return mpq\n",
    "\n",
    "\n",
    "image = np.array([\n",
    "    [0, 0, 0, 0, 0, 0, 0, 0],\n",
    "    [0, 1, 1, 1, 0, 0, 1, 0],\n",
    "    [0, 1, 1, 1, 0, 0, 1, 0],\n",
    "    [0, 1, 1, 1, 0, 0, 1, 0],\n",
    "    [0, 0, 0, 0, 0, 0, 1, 0],\n",
    "    [0, 0, 0, 0, 0, 1, 1, 0],\n",
    "    [0, 1, 1, 1, 1, 1, 1, 0],\n",
    "    [0, 0, 0, 0, 0, 0, 0, 0],\n",
    "])\n",
    "\n",
    "print(run_central_moments(image, 3, 0))\n",
    "print(run_central_moments(image, 0, 3))"
   ]
  },
  {
   "cell_type": "markdown",
   "metadata": {},
   "source": [
    "## fourier"
   ]
  },
  {
   "cell_type": "code",
   "execution_count": null,
   "metadata": {},
   "outputs": [],
   "source": [
    "def fourier_transform(path):\n",
    "    img = cv2.imread(path, 0)\n",
    "    f = np.fft.fft2(img)\n",
    "    fshift = np.fft.fftshift(f)\n",
    "    magnitude_spectrum = 20 * np.log(np.abs(fshift))\n",
    "\n",
    "    plt.subplot(121), plt.imshow(img, cmap='gray')\n",
    "    plt.title('Input Image'), plt.xticks([]), plt.yticks([])\n",
    "    plt.subplot(122), plt.imshow(magnitude_spectrum, cmap='gray')\n",
    "    plt.title('Magnitude Spectrum'), plt.xticks([]), plt.yticks([])\n",
    "    plt.show()\n",
    "\n",
    "fourier_transform('1.png')\n",
    "fourier_transform('2.png')\n",
    "fourier_transform('3.png')"
   ]
  },
  {
   "cell_type": "markdown",
   "metadata": {},
   "source": [
    "## interpolacja liniowa\n",
    "\n",
    "punkty *muszą* być ułożone w następujący sposób:\n",
    "\n",
    "b   d\n",
    "\n",
    "a   c"
   ]
  },
  {
   "cell_type": "code",
   "execution_count": null,
   "metadata": {},
   "outputs": [],
   "source": [
    "a = (4,4) \n",
    "b = (4, 12) \n",
    "c = (12,4) \n",
    "d = (12,12)\n",
    "\n",
    "a_threshold = 10\n",
    "b_threshold = 140\n",
    "c_threshold = 0\n",
    "d_threshold = 70\n",
    "\n",
    "x, y = 6, 9\n",
    "\n",
    "assert a[0] == b[0]\n",
    "assert c[0] == d[0]\n",
    "assert a[1] == c[1]\n",
    "assert b[1] == d[1]\n",
    "\n",
    "p = (c[0]-x) / (c[0] - a[0]) * (b_threshold - d_threshold) + d_threshold\n",
    "q = (c[0]-x) / (c[0] - a[0]) * (a_threshold - c_threshold) + c_threshold\n",
    "x = (y-a[1]) / (b[1] - a[1]) * (p - q) + q \n",
    "x"
   ]
  }
 ],
 "metadata": {
  "kernelspec": {
   "display_name": "sas-exam",
   "language": "python",
   "name": "sas-exam"
  },
  "language_info": {
   "codemirror_mode": {
    "name": "ipython",
    "version": 3
   },
   "file_extension": ".py",
   "mimetype": "text/x-python",
   "name": "python",
   "nbconvert_exporter": "python",
   "pygments_lexer": "ipython3",
   "version": "3.8.5"
  }
 },
 "nbformat": 4,
 "nbformat_minor": 4
}
